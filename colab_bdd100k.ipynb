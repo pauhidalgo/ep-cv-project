{
 "cells": [
  {
   "cell_type": "code",
   "execution_count": null,
   "id": "f29b50b1-3a04-41ec-b9a1-b83ba610b0ba",
   "metadata": {},
   "outputs": [],
   "source": [
    "import matplotlib.pyplot as plt"
   ]
  },
  {
   "cell_type": "code",
   "execution_count": null,
   "id": "2c0de1fe-791c-4c20-88ce-a0ad84b88d86",
   "metadata": {},
   "outputs": [],
   "source": [
    "%cd ..\n",
    "from google.colab import drive\n",
    "drive.mount('/content/gdrive')"
   ]
  },
  {
   "cell_type": "code",
   "execution_count": null,
   "id": "78cafffc-f422-4a15-88e3-4621ca392c19",
   "metadata": {},
   "outputs": [],
   "source": [
    "!ln -s /content/gdrive/My\\ Drive/ /mydrive\n",
    "!ls /mydrive"
   ]
  },
  {
   "cell_type": "markdown",
   "id": "7dbc30ce-a07b-4ed4-a834-28d516afa073",
   "metadata": {},
   "source": [
    "![img](https://drive.google.com/file/d/1YiYvJhQ4IfTFpdSGez0UfgP9Typa-ZyX/view?usp=drive_link)\n"
   ]
  },
  {
   "cell_type": "markdown",
   "id": "7ad1decc-9065-4aab-b9fc-42370da2c76b",
   "metadata": {},
   "source": [
    "![img](https://drive.google.com/file/d/1J-3bqd_kZ0Vc1Wf241lNDV5ihfzWTQsD/view?usp=drive_link)\n"
   ]
  },
  {
   "cell_type": "code",
   "execution_count": null,
   "id": "662bb6cc-3f64-438e-8484-99aaeea5b37a",
   "metadata": {},
   "outputs": [],
   "source": [
    "#Consider making a new symbolic link to make paths and commands easier."
   ]
  },
  {
   "cell_type": "code",
   "execution_count": null,
   "id": "01604e60-f4b7-442b-97f9-730b8d7629f0",
   "metadata": {},
   "outputs": [],
   "source": [
    "# With the shortcut to our project directory, go to the darknet folder\n",
    "%cd /mydrive/bdd_images/darknet"
   ]
  },
  {
   "cell_type": "code",
   "execution_count": null,
   "id": "3f033dd7-a9a1-41f5-815e-eb5056299e03",
   "metadata": {},
   "outputs": [],
   "source": [
    "# Sample command test\n",
    "!./darknet detector test /mydrive/bdd_images/yolo/bdd100k.data /mydrive/bdd_images/yolo/bdd100k-detect.cfg /mydrive/bdd_images/yolo/bdd100k-train2_final.weights /mydrive/bdd_images/yolo/val/data/b1e8ad72-c3c79240.jpg\n",
    "plt.imshow('prediction.jpg')"
   ]
  },
  {
   "cell_type": "code",
   "execution_count": null,
   "id": "a8f4b57a-1f41-4358-95f6-109feea04014",
   "metadata": {},
   "outputs": [],
   "source": [
    "# Sample Metrics/Evaluation\n",
    "!./darknet detector map /mydrive/bdd_images/yolo/bdd100k.data /mydrive/bdd_images/yolo/bdd100k-detect.cfg /mydrive/bdd_images/yolo/bdd100k-train2_final.weights"
   ]
  }
 ],
 "metadata": {
  "kernelspec": {
   "display_name": "Python 3 (ipykernel)",
   "language": "python",
   "name": "python3"
  },
  "language_info": {
   "codemirror_mode": {
    "name": "ipython",
    "version": 3
   },
   "file_extension": ".py",
   "mimetype": "text/x-python",
   "name": "python",
   "nbconvert_exporter": "python",
   "pygments_lexer": "ipython3",
   "version": "3.8.18"
  }
 },
 "nbformat": 4,
 "nbformat_minor": 5
}
